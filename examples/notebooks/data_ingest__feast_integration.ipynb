{
 "cells": [
  {
   "cell_type": "code",
   "execution_count": null,
   "outputs": [],
   "source": [
    "##### ANOVOS - Data Ingest\n",
    "Following notebook shows the list of \"data ingest\" related functions supported under ANOVOS package and how it can be invoked accordingly.\n",
    "* [Read Dataset](#Read-Dataset)\n",
    "* [Select Columns](#Select-Columns)\n",
    "* [Delete Columns](#Delete-Columns)\n",
    "* [Rename Columns](#Rename-Columns)\n",
    "* [Recast Columns](#Recast-Columns)\n",
    "* [Concatenate Datasets](#Concatenate-Datasets)\n",
    "* [Join Datasets](#Join-Datasets)\n",
    "* [Write Datasets](#Write-Datasets)"
   ],
   "metadata": {
    "collapsed": false,
    "pycharm": {
     "name": "#%%\n"
    }
   }
  },
  {
   "cell_type": "markdown",
   "metadata": {
    "pycharm": {
     "name": "#%% md\n"
    }
   },
   "source": [
    "**Setting Spark Session**"
   ]
  },
  {
   "cell_type": "code",
   "execution_count": 2,
   "metadata": {
    "pycharm": {
     "name": "#%%\n"
    },
    "scrolled": true
   },
   "outputs": [],
   "source": [
    "from anovos.shared.spark import *\n",
    "\n",
    "sc.setLogLevel(\"ERROR\")\n",
    "import warnings\n",
    "warnings.filterwarnings('ignore')"
   ]
  },
  {
   "cell_type": "markdown",
   "metadata": {
    "pycharm": {
     "name": "#%% md\n"
    }
   },
   "source": [
    "**Input/Output Path**"
   ]
  },
  {
   "cell_type": "code",
   "execution_count": 2,
   "metadata": {
    "pycharm": {
     "name": "#%%\n"
    }
   },
   "outputs": [],
   "source": [
    "inputPath = \"../data/income_dataset/csv\"\n",
    "inputPath_parq = \"../data/income_dataset/parquet\"\n",
    "inputPath_join = \"../data/income_dataset/join\"\n",
    "outputPath = \"../output/income_dataset/\""
   ]
  },
  {
   "cell_type": "markdown",
   "metadata": {
    "pycharm": {
     "name": "#%% md\n"
    }
   },
   "source": [
    "# Read Dataset"
   ]
  },
  {
   "cell_type": "markdown",
   "metadata": {
    "pycharm": {
     "name": "#%% md\n"
    }
   },
   "source": [
    "- API specification of function **read_dataset** can be found <a href=\"https://docs.anovos.ai/api/data_ingest/data_ingest.html\">here</a>\n",
    "- Currently supports - csv, parquet, avro"
   ]
  },
  {
   "cell_type": "code",
   "execution_count": 3,
   "metadata": {
    "pycharm": {
     "name": "#%%\n"
    }
   },
   "outputs": [],
   "source": [
    "from anovos.data_ingest.data_ingest import read_dataset"
   ]
  },
  {
   "cell_type": "code",
   "execution_count": 4,
   "metadata": {
    "pycharm": {
     "name": "#%%\n"
    }
   },
   "outputs": [
    {
     "data": {
      "text/html": [
       "<div>\n",
       "<style scoped>\n",
       "    .dataframe tbody tr th:only-of-type {\n",
       "        vertical-align: middle;\n",
       "    }\n",
       "\n",
       "    .dataframe tbody tr th {\n",
       "        vertical-align: top;\n",
       "    }\n",
       "\n",
       "    .dataframe thead th {\n",
       "        text-align: right;\n",
       "    }\n",
       "</style>\n",
       "<table border=\"1\" class=\"dataframe\">\n",
       "  <thead>\n",
       "    <tr style=\"text-align: right;\">\n",
       "      <th></th>\n",
       "      <th>ifa</th>\n",
       "      <th>age</th>\n",
       "      <th>workclass</th>\n",
       "      <th>fnlwgt</th>\n",
       "      <th>logfnl</th>\n",
       "      <th>empty</th>\n",
       "      <th>education</th>\n",
       "      <th>education-num</th>\n",
       "      <th>marital-status</th>\n",
       "      <th>occupation</th>\n",
       "      <th>relationship</th>\n",
       "      <th>race</th>\n",
       "      <th>sex</th>\n",
       "      <th>capital-gain</th>\n",
       "      <th>capital-loss</th>\n",
       "      <th>hours-per-week</th>\n",
       "      <th>native-country</th>\n",
       "      <th>income</th>\n",
       "      <th>dt_1</th>\n",
       "      <th>dt_2</th>\n",
       "    </tr>\n",
       "  </thead>\n",
       "  <tbody>\n",
       "    <tr>\n",
       "      <th>0</th>\n",
       "      <td>1a</td>\n",
       "      <td>NaN</td>\n",
       "      <td>State-gov</td>\n",
       "      <td>77516.0</td>\n",
       "      <td>4.889391</td>\n",
       "      <td>None</td>\n",
       "      <td>Bachelors</td>\n",
       "      <td>13.0</td>\n",
       "      <td>Never-married</td>\n",
       "      <td>Adm-clerical</td>\n",
       "      <td>Not-in-family</td>\n",
       "      <td>White</td>\n",
       "      <td>Male</td>\n",
       "      <td>2174.0</td>\n",
       "      <td>0.0</td>\n",
       "      <td>40.0</td>\n",
       "      <td>UnitedStates</td>\n",
       "      <td>&lt;=50K</td>\n",
       "      <td>1/8/16 5:59</td>\n",
       "      <td>1/16/16 5:59</td>\n",
       "    </tr>\n",
       "    <tr>\n",
       "      <th>1</th>\n",
       "      <td>2a</td>\n",
       "      <td>NaN</td>\n",
       "      <td>Self-emp-not-inc</td>\n",
       "      <td>83311.0</td>\n",
       "      <td>4.920702</td>\n",
       "      <td>None</td>\n",
       "      <td>Bachelors</td>\n",
       "      <td>13.0</td>\n",
       "      <td>Married-civ-spouse</td>\n",
       "      <td>Exec-managerial</td>\n",
       "      <td>Husband</td>\n",
       "      <td>White</td>\n",
       "      <td>Male</td>\n",
       "      <td>0.0</td>\n",
       "      <td>0.0</td>\n",
       "      <td>13.0</td>\n",
       "      <td>UnitedStates</td>\n",
       "      <td>&lt;=50K</td>\n",
       "      <td>1/8/16 21:09</td>\n",
       "      <td>1/12/16 21:09</td>\n",
       "    </tr>\n",
       "    <tr>\n",
       "      <th>2</th>\n",
       "      <td>3a</td>\n",
       "      <td>38.0</td>\n",
       "      <td>Private</td>\n",
       "      <td>215646.0</td>\n",
       "      <td>5.333741</td>\n",
       "      <td>None</td>\n",
       "      <td>HS-grad</td>\n",
       "      <td>9.0</td>\n",
       "      <td>Divorced</td>\n",
       "      <td>Handlers-cleaners</td>\n",
       "      <td>Not-in-family</td>\n",
       "      <td>White</td>\n",
       "      <td>Male</td>\n",
       "      <td>0.0</td>\n",
       "      <td>0.0</td>\n",
       "      <td>40.0</td>\n",
       "      <td>UnitedStates</td>\n",
       "      <td>&lt;=50K</td>\n",
       "      <td>3/8/16 2:21</td>\n",
       "      <td>3/20/16 2:21</td>\n",
       "    </tr>\n",
       "    <tr>\n",
       "      <th>3</th>\n",
       "      <td>4a</td>\n",
       "      <td>53.0</td>\n",
       "      <td>Private</td>\n",
       "      <td>234721.0</td>\n",
       "      <td>5.370552</td>\n",
       "      <td>None</td>\n",
       "      <td>11th</td>\n",
       "      <td>7.0</td>\n",
       "      <td>Married-civ-spouse</td>\n",
       "      <td>Handlers-cleaners</td>\n",
       "      <td>Husband</td>\n",
       "      <td>Black</td>\n",
       "      <td>Male</td>\n",
       "      <td>0.0</td>\n",
       "      <td>0.0</td>\n",
       "      <td>40.0</td>\n",
       "      <td>UnitedStates</td>\n",
       "      <td>&lt;=50K</td>\n",
       "      <td>3/8/16 6:31</td>\n",
       "      <td>3/14/16 6:31</td>\n",
       "    </tr>\n",
       "    <tr>\n",
       "      <th>4</th>\n",
       "      <td>5a</td>\n",
       "      <td>NaN</td>\n",
       "      <td>Private</td>\n",
       "      <td>338409.0</td>\n",
       "      <td>5.529442</td>\n",
       "      <td>None</td>\n",
       "      <td>Bachelors</td>\n",
       "      <td>13.0</td>\n",
       "      <td>Married-civ-spouse</td>\n",
       "      <td>Prof-specialty</td>\n",
       "      <td>Wife</td>\n",
       "      <td>Black</td>\n",
       "      <td>Female</td>\n",
       "      <td>0.0</td>\n",
       "      <td>0.0</td>\n",
       "      <td>40.0</td>\n",
       "      <td>Cuba</td>\n",
       "      <td>&lt;=50K</td>\n",
       "      <td>3/8/16 9:45</td>\n",
       "      <td>3/10/16 9:45</td>\n",
       "    </tr>\n",
       "  </tbody>\n",
       "</table>\n",
       "</div>"
      ],
      "text/plain": [
       "  ifa   age         workclass    fnlwgt    logfnl empty  education  \\\n",
       "0  1a   NaN         State-gov   77516.0  4.889391  None  Bachelors   \n",
       "1  2a   NaN  Self-emp-not-inc   83311.0  4.920702  None  Bachelors   \n",
       "2  3a  38.0           Private  215646.0  5.333741  None    HS-grad   \n",
       "3  4a  53.0           Private  234721.0  5.370552  None       11th   \n",
       "4  5a   NaN           Private  338409.0  5.529442  None  Bachelors   \n",
       "\n",
       "   education-num      marital-status         occupation   relationship   race  \\\n",
       "0           13.0       Never-married       Adm-clerical  Not-in-family  White   \n",
       "1           13.0  Married-civ-spouse    Exec-managerial        Husband  White   \n",
       "2            9.0            Divorced  Handlers-cleaners  Not-in-family  White   \n",
       "3            7.0  Married-civ-spouse  Handlers-cleaners        Husband  Black   \n",
       "4           13.0  Married-civ-spouse     Prof-specialty           Wife  Black   \n",
       "\n",
       "      sex  capital-gain  capital-loss  hours-per-week native-country income  \\\n",
       "0    Male        2174.0           0.0            40.0   UnitedStates  <=50K   \n",
       "1    Male           0.0           0.0            13.0   UnitedStates  <=50K   \n",
       "2    Male           0.0           0.0            40.0   UnitedStates  <=50K   \n",
       "3    Male           0.0           0.0            40.0   UnitedStates  <=50K   \n",
       "4  Female           0.0           0.0            40.0           Cuba  <=50K   \n",
       "\n",
       "           dt_1           dt_2  \n",
       "0   1/8/16 5:59   1/16/16 5:59  \n",
       "1  1/8/16 21:09  1/12/16 21:09  \n",
       "2   3/8/16 2:21   3/20/16 2:21  \n",
       "3   3/8/16 6:31   3/14/16 6:31  \n",
       "4   3/8/16 9:45   3/10/16 9:45  "
      ]
     },
     "execution_count": 4,
     "metadata": {},
     "output_type": "execute_result"
    }
   ],
   "source": [
    "df = read_dataset(spark, file_path = inputPath, file_type = \"csv\",file_configs = {\"header\": \"True\", \n",
    "                                                                           \"delimiter\": \",\" , \n",
    "                                                                           \"inferSchema\": \"True\"})\n",
    "df.toPandas().head(5)"
   ]
  },
  {
   "cell_type": "markdown",
   "metadata": {
    "pycharm": {
     "name": "#%% md\n"
    }
   },
   "source": [
    "# Write Datasets and export feature definitions"
   ]
  },
  {
   "cell_type": "markdown",
   "metadata": {
    "pycharm": {
     "name": "#%% md\n"
    }
   },
   "source": [
    "A description of feature store related configuration can be found <a href=\"https://docs.anovos.ai/using-anovos/feature_store.html\">here</a>\n",
    "- API specification of function **generate_feature_description** can be found <a href=\"https://docs.anovos.ai/api/feature_store/feast_exporter.html\">here</a> <br>\n",
    "- Limitations:\n",
    "    - repartition for file output needs to be set to 1\n",
    "    - no incremental updates possible\n",
    "       "
   ]
  },
  {
   "cell_type": "code",
   "execution_count": null,
   "metadata": {
    "pycharm": {
     "name": "#%%\n"
    }
   },
   "outputs": [],
   "source": [
    "from anovos.feature_store import feast_exporter"
   ]
  },
  {
   "cell_type": "code",
   "execution_count": null,
   "metadata": {
    "pycharm": {
     "name": "#%%\n"
    }
   },
   "outputs": [],
   "source": [
    "#Example 1 - add timestamp columns to df \n",
    "entity_config = {\n",
    "    \"name\": \"income\",\n",
    "    \"id_col\": \"ifa\",\n",
    "    \"description\": \"write_feast_features\",\n",
    "}\n",
    "\n",
    "file_source_config = {\n",
    "    \"owner\": \"test@owner.com\",\n",
    "    \"description\": \"data source description\",\n",
    "    \"timestamp_col\": \"event_time\",\n",
    "    \"create_timestamp_col\": \"create_time_col\",\n",
    "}\n",
    "\n",
    "feature_view_config = {\n",
    "    \"name\": \"income_view\",\n",
    "    \"ttl_in_seconds\": 3600000,\n",
    "    \"owner\": \"view@owner.com\",\n",
    "    \"create_timestamps\": True,\n",
    "}\n",
    "\n",
    "write_feast_features = {\n",
    "    \"entity\": entity_config,\n",
    "    \"file_source\": file_source_config,\n",
    "    \"feature_view\": feature_view_config,\n",
    "    \"file_path\": \"../feast_repo\",\n",
    "    \"service_name\": \"income_feature_service\"\n",
    "}\n",
    "# read this from yml file in real world\n",
    "\n",
    "\n",
    "file_source_config = write_feast_features[\"file_source\"]\n",
    "df = feast_exporter.add_timestamp_columns(df, file_source_config)"
   ]
  },
  {
   "cell_type": "code",
   "execution_count": 32,
   "metadata": {
    "pycharm": {
     "name": "#%%\n"
    }
   },
   "outputs": [],
   "source": [
    "from anovos.data_ingest.data_ingest import write_dataset"
   ]
  },
  {
   "cell_type": "code",
   "execution_count": 37,
   "metadata": {
    "pycharm": {
     "name": "#%%\n"
    }
   },
   "outputs": [],
   "source": [
    "write_dataset(df, outputPath, 'parquet',{'repartition':1, 'mode':'overwrite'})"
   ]
  },
  {
   "cell_type": "code",
   "execution_count": null,
   "metadata": {
    "pycharm": {
     "name": "#%%\n"
    }
   },
   "outputs": [],
   "source": [
    "# Example 1 - write feast feature configuration into feast repository\n",
    "path = os.path.join(write_main[\"file_path\"], \"final_dataset\", \"part*\")\n",
    "filename = glob.glob(path)[0]\n",
    "feast_exporter.generate_feature_description(df.dtypes, write_feast_features, filename)"
   ]
  }
 ],
 "metadata": {
  "kernelspec": {
   "display_name": "Python 3 (ipykernel)",
   "language": "python",
   "name": "python3"
  },
  "language_info": {
   "codemirror_mode": {
    "name": "ipython",
    "version": 3
   },
   "file_extension": ".py",
   "mimetype": "text/x-python",
   "name": "python",
   "nbconvert_exporter": "python",
   "pygments_lexer": "ipython3",
   "version": "3.9.12"
  },
  "toc": {
   "base_numbering": 1,
   "nav_menu": {},
   "number_sections": false,
   "sideBar": true,
   "skip_h1_title": false,
   "title_cell": "Data Ingest",
   "title_sidebar": "Contents",
   "toc_cell": false,
   "toc_position": {
    "height": "calc(100% - 180px)",
    "left": "10px",
    "top": "150px",
    "width": "252.52499389648438px"
   },
   "toc_section_display": true,
   "toc_window_display": true
  }
 },
 "nbformat": 4,
 "nbformat_minor": 4
}
