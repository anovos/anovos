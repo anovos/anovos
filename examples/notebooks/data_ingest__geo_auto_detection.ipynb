{
 "cells": [
  {
   "cell_type": "markdown",
   "id": "4af513b6-57f9-4f04-ad94-a736813ae514",
   "metadata": {},
   "source": [
    "# ANOVOS- GeoAuto Detection\n",
    "**Following notebook shows the list of functions related to \"gei_auto_detection\" module provided under ANOVOS package**\n",
    "- [ll gh cols](#ll_gh_cols)"
   ]
  },
  {
   "cell_type": "markdown",
   "id": "5196b096-b5e2-454c-8ccb-d3e60c33e823",
   "metadata": {},
   "source": [
    "**Setting Spark Session**"
   ]
  },
  {
   "cell_type": "code",
   "execution_count": 1,
   "id": "51af0e21-3c72-4fa3-aa9f-1a21f5b5846f",
   "metadata": {},
   "outputs": [],
   "source": [
    "#set run type variable\n",
    "run_type = \"local\" # \"local\", \"emr\", \"databricks\", \"ak8s\""
   ]
  },
  {
   "cell_type": "code",
   "execution_count": 3,
   "id": "11427138-7b50-4b59-8300-26e9d96c61d4",
   "metadata": {},
   "outputs": [],
   "source": [
    "#For run_type Azure Kubernetes, run the following block \n",
    "import os\n",
    "from pyspark import SparkContext, SparkConf\n",
    "from pyspark.sql import SparkSession\n",
    "\n",
    "if run_type == \"ak8s\":\n",
    "    fs_path=\"<insert conf spark.hadoop.fs master url here> ex: spark.hadoop.fs.azure.sas.<container>.<account_name>.blob.core.windows.net\"\n",
    "    auth_key=\"<insert value of sas_token here>\"\n",
    "    master_url=\"<insert kubernetes master url path here> ex: k8s://\"\n",
    "    docker_image=\"<insert name docker image here>\"\n",
    "    kubernetes_namespace =\"<insert kubernetes namespace here>\"\n",
    "\n",
    "    # Create Spark config for our Kubernetes based cluster manager\n",
    "    sparkConf = SparkConf()\n",
    "    sparkConf.setMaster(master_url)\n",
    "    sparkConf.setAppName(\"Anovos_pipeline\")\n",
    "    sparkConf.set(\"spark.submit.deployMode\",\"client\")\n",
    "    sparkConf.set(\"spark.kubernetes.container.image\", docker_image)\n",
    "    sparkConf.set(\"spark.kubernetes.namespace\", kubernetes_namespace)\n",
    "    sparkConf.set(\"spark.executor.instances\", \"4\")\n",
    "    sparkConf.set(\"spark.executor.cores\", \"4\")\n",
    "    sparkConf.set(\"spark.executor.memory\", \"16g\")\n",
    "    sparkConf.set(\"spark.kubernetes.pyspark.pythonVersion\", \"3\")\n",
    "    sparkConf.set(\"spark.kubernetes.authenticate.driver.serviceAccountName\", \"spark\")\n",
    "    sparkConf.set(fs_path,auth_key)\n",
    "    sparkConf.set(\"spark.kubernetes.authenticate.serviceAccountName\", \"spark\")\n",
    "    sparkConf.set(\"spark.jars.packages\", \"org.apache.hadoop:hadoop-azure:3.2.0,com.microsoft.azure:azure-storage:8.6.3,io.github.histogrammar:histogrammar_2.12:1.0.20,io.github.histogrammar:histogrammar-sparksql_2.12:1.0.20,org.apache.spark:spark-avro_2.12:3.2.1\")\n",
    "\n",
    "    # Initialize our Spark cluster, this will actually\n",
    "    # generate the worker nodes.\n",
    "    spark = SparkSession.builder.config(conf=sparkConf).getOrCreate()\n",
    "    sc = spark.sparkContext\n",
    "\n",
    "#For other run types import from anovos.shared.\n",
    "else:\n",
    "    from anovos.shared.spark import *\n",
    "    auth_key = \"NA\""
   ]
  },
  {
   "cell_type": "markdown",
   "id": "5c429195-5913-4fa5-9aa6-b2d715ebc0fb",
   "metadata": {},
   "source": [
    "**Input/Output Path**"
   ]
  },
  {
   "cell_type": "code",
   "execution_count": 4,
   "id": "6fabaf86-a3a4-46f1-aa4e-e76f73b4fdd8",
   "metadata": {},
   "outputs": [],
   "source": [
    "inputPath = \"../data/income_dataset/csv\""
   ]
  },
  {
   "cell_type": "code",
   "execution_count": 5,
   "id": "319e9a50-cdb4-4120-89e2-99f6fa69af44",
   "metadata": {},
   "outputs": [],
   "source": [
    "from anovos.data_ingest.data_ingest import read_dataset\n",
    "from anovos.shared.utils import ends_with"
   ]
  },
  {
   "cell_type": "code",
   "execution_count": 6,
   "id": "cfd9b389-9576-4a9f-aa59-8731f6c01e0d",
   "metadata": {},
   "outputs": [
    {
     "name": "stderr",
     "output_type": "stream",
     "text": [
      "                                                                                \r"
     ]
    },
    {
     "data": {
      "text/html": [
       "<div>\n",
       "<style scoped>\n",
       "    .dataframe tbody tr th:only-of-type {\n",
       "        vertical-align: middle;\n",
       "    }\n",
       "\n",
       "    .dataframe tbody tr th {\n",
       "        vertical-align: top;\n",
       "    }\n",
       "\n",
       "    .dataframe thead th {\n",
       "        text-align: right;\n",
       "    }\n",
       "</style>\n",
       "<table border=\"1\" class=\"dataframe\">\n",
       "  <thead>\n",
       "    <tr style=\"text-align: right;\">\n",
       "      <th></th>\n",
       "      <th>ifa</th>\n",
       "      <th>age</th>\n",
       "      <th>workclass</th>\n",
       "      <th>fnlwgt</th>\n",
       "      <th>logfnl</th>\n",
       "      <th>empty</th>\n",
       "      <th>education</th>\n",
       "      <th>education-num</th>\n",
       "      <th>marital-status</th>\n",
       "      <th>occupation</th>\n",
       "      <th>...</th>\n",
       "      <th>race</th>\n",
       "      <th>sex</th>\n",
       "      <th>capital-gain</th>\n",
       "      <th>capital-loss</th>\n",
       "      <th>hours-per-week</th>\n",
       "      <th>native-country</th>\n",
       "      <th>income</th>\n",
       "      <th>latitude</th>\n",
       "      <th>longitude</th>\n",
       "      <th>geohash</th>\n",
       "    </tr>\n",
       "  </thead>\n",
       "  <tbody>\n",
       "    <tr>\n",
       "      <th>0</th>\n",
       "      <td>1a</td>\n",
       "      <td>NaN</td>\n",
       "      <td>State-gov</td>\n",
       "      <td>77516.0</td>\n",
       "      <td>4.889391</td>\n",
       "      <td>None</td>\n",
       "      <td>Bachelors</td>\n",
       "      <td>13.0</td>\n",
       "      <td>Never-married</td>\n",
       "      <td>Adm-clerical</td>\n",
       "      <td>...</td>\n",
       "      <td>White</td>\n",
       "      <td>Male</td>\n",
       "      <td>2174.0</td>\n",
       "      <td>0.0</td>\n",
       "      <td>40.0</td>\n",
       "      <td>UnitedStates</td>\n",
       "      <td>&lt;=50K</td>\n",
       "      <td>-38.624096</td>\n",
       "      <td>177.982468</td>\n",
       "      <td>rb68np99</td>\n",
       "    </tr>\n",
       "    <tr>\n",
       "      <th>1</th>\n",
       "      <td>2a</td>\n",
       "      <td>NaN</td>\n",
       "      <td>Self-emp-not-inc</td>\n",
       "      <td>83311.0</td>\n",
       "      <td>4.920702</td>\n",
       "      <td>None</td>\n",
       "      <td>Bachelors</td>\n",
       "      <td>13.0</td>\n",
       "      <td>Married-civ-spouse</td>\n",
       "      <td>Exec-managerial</td>\n",
       "      <td>...</td>\n",
       "      <td>White</td>\n",
       "      <td>Male</td>\n",
       "      <td>0.0</td>\n",
       "      <td>0.0</td>\n",
       "      <td>13.0</td>\n",
       "      <td>UnitedStates</td>\n",
       "      <td>&lt;=50K</td>\n",
       "      <td>-40.880497</td>\n",
       "      <td>174.992142</td>\n",
       "      <td>rckjypw0</td>\n",
       "    </tr>\n",
       "    <tr>\n",
       "      <th>2</th>\n",
       "      <td>3a</td>\n",
       "      <td>38.0</td>\n",
       "      <td>Private</td>\n",
       "      <td>215646.0</td>\n",
       "      <td>5.333741</td>\n",
       "      <td>None</td>\n",
       "      <td>HS-grad</td>\n",
       "      <td>9.0</td>\n",
       "      <td>Divorced</td>\n",
       "      <td>Handlers-cleaners</td>\n",
       "      <td>...</td>\n",
       "      <td>White</td>\n",
       "      <td>Male</td>\n",
       "      <td>0.0</td>\n",
       "      <td>0.0</td>\n",
       "      <td>40.0</td>\n",
       "      <td>UnitedStates</td>\n",
       "      <td>&lt;=50K</td>\n",
       "      <td>-37.735630</td>\n",
       "      <td>176.164047</td>\n",
       "      <td>rckm712q</td>\n",
       "    </tr>\n",
       "    <tr>\n",
       "      <th>3</th>\n",
       "      <td>4a</td>\n",
       "      <td>53.0</td>\n",
       "      <td>Private</td>\n",
       "      <td>234721.0</td>\n",
       "      <td>5.370552</td>\n",
       "      <td>None</td>\n",
       "      <td>11th</td>\n",
       "      <td>7.0</td>\n",
       "      <td>Married-civ-spouse</td>\n",
       "      <td>Handlers-cleaners</td>\n",
       "      <td>...</td>\n",
       "      <td>Black</td>\n",
       "      <td>Male</td>\n",
       "      <td>0.0</td>\n",
       "      <td>0.0</td>\n",
       "      <td>40.0</td>\n",
       "      <td>UnitedStates</td>\n",
       "      <td>&lt;=50K</td>\n",
       "      <td>-39.536491</td>\n",
       "      <td>176.832321</td>\n",
       "      <td>rckndgte</td>\n",
       "    </tr>\n",
       "    <tr>\n",
       "      <th>4</th>\n",
       "      <td>5a</td>\n",
       "      <td>NaN</td>\n",
       "      <td>Private</td>\n",
       "      <td>338409.0</td>\n",
       "      <td>5.529442</td>\n",
       "      <td>None</td>\n",
       "      <td>Bachelors</td>\n",
       "      <td>13.0</td>\n",
       "      <td>Married-civ-spouse</td>\n",
       "      <td>Prof-specialty</td>\n",
       "      <td>...</td>\n",
       "      <td>Black</td>\n",
       "      <td>Female</td>\n",
       "      <td>0.0</td>\n",
       "      <td>0.0</td>\n",
       "      <td>40.0</td>\n",
       "      <td>Cuba</td>\n",
       "      <td>&lt;=50K</td>\n",
       "      <td>-41.128094</td>\n",
       "      <td>175.033722</td>\n",
       "      <td>rckq4596</td>\n",
       "    </tr>\n",
       "  </tbody>\n",
       "</table>\n",
       "<p>5 rows × 21 columns</p>\n",
       "</div>"
      ],
      "text/plain": [
       "  ifa   age         workclass    fnlwgt    logfnl empty  education  \\\n",
       "0  1a   NaN         State-gov   77516.0  4.889391  None  Bachelors   \n",
       "1  2a   NaN  Self-emp-not-inc   83311.0  4.920702  None  Bachelors   \n",
       "2  3a  38.0           Private  215646.0  5.333741  None    HS-grad   \n",
       "3  4a  53.0           Private  234721.0  5.370552  None       11th   \n",
       "4  5a   NaN           Private  338409.0  5.529442  None  Bachelors   \n",
       "\n",
       "   education-num      marital-status         occupation  ...   race     sex  \\\n",
       "0           13.0       Never-married       Adm-clerical  ...  White    Male   \n",
       "1           13.0  Married-civ-spouse    Exec-managerial  ...  White    Male   \n",
       "2            9.0            Divorced  Handlers-cleaners  ...  White    Male   \n",
       "3            7.0  Married-civ-spouse  Handlers-cleaners  ...  Black    Male   \n",
       "4           13.0  Married-civ-spouse     Prof-specialty  ...  Black  Female   \n",
       "\n",
       "  capital-gain  capital-loss  hours-per-week  native-country income  \\\n",
       "0       2174.0           0.0            40.0    UnitedStates  <=50K   \n",
       "1          0.0           0.0            13.0    UnitedStates  <=50K   \n",
       "2          0.0           0.0            40.0    UnitedStates  <=50K   \n",
       "3          0.0           0.0            40.0    UnitedStates  <=50K   \n",
       "4          0.0           0.0            40.0            Cuba  <=50K   \n",
       "\n",
       "    latitude   longitude   geohash  \n",
       "0 -38.624096  177.982468  rb68np99  \n",
       "1 -40.880497  174.992142  rckjypw0  \n",
       "2 -37.735630  176.164047  rckm712q  \n",
       "3 -39.536491  176.832321  rckndgte  \n",
       "4 -41.128094  175.033722  rckq4596  \n",
       "\n",
       "[5 rows x 21 columns]"
      ]
     },
     "execution_count": 6,
     "metadata": {},
     "output_type": "execute_result"
    }
   ],
   "source": [
    "df = read_dataset(spark, file_path = inputPath, file_type = \"csv\",file_configs = {\"header\": \"True\", \n",
    "                                                                           \"delimiter\": \",\" , \n",
    "                                                                           \"inferSchema\": \"True\"})\n",
    "df = df.drop(\"dt_1\", \"dt_2\")\n",
    "df.toPandas().head(5)"
   ]
  },
  {
   "cell_type": "markdown",
   "id": "0e88804d-5572-43bd-8501-be7c5f9d70e9",
   "metadata": {},
   "source": [
    "# ll_gh_cols"
   ]
  },
  {
   "cell_type": "code",
   "execution_count": 7,
   "id": "7eeb59c6-e3f4-4c1c-af83-1e092ee9fa51",
   "metadata": {},
   "outputs": [],
   "source": [
    "from anovos.data_ingest.geo_auto_detection import ll_gh_cols"
   ]
  },
  {
   "cell_type": "code",
   "execution_count": 8,
   "id": "f8d89afa-b48c-46f0-aa05-ffeecbf50784",
   "metadata": {},
   "outputs": [],
   "source": [
    "max_records = 100000"
   ]
  },
  {
   "cell_type": "code",
   "execution_count": 9,
   "id": "acdb052a-894e-4f67-acda-3f95214cc80f",
   "metadata": {},
   "outputs": [
    {
     "name": "stderr",
     "output_type": "stream",
     "text": [
      "                                                                                \r"
     ]
    },
    {
     "name": "stdout",
     "output_type": "stream",
     "text": [
      "[] [] []\n"
     ]
    }
   ],
   "source": [
    "# Example 1 - only latitude column is in the input data\n",
    "lat_cols, long_cols, gh_cols = ll_gh_cols(df.drop(\"geohash\", \"latitude\"), max_records)\n",
    "print(lat_cols, long_cols, gh_cols)"
   ]
  },
  {
   "cell_type": "code",
   "execution_count": 10,
   "id": "ff121911-68a7-4ee0-9e63-fea5021070ca",
   "metadata": {},
   "outputs": [
    {
     "name": "stdout",
     "output_type": "stream",
     "text": [
      "[] [] []\n"
     ]
    }
   ],
   "source": [
    "# Example 2 - only longitude column is in the input data\n",
    "lat_cols, long_cols, gh_cols = ll_gh_cols(df.drop(\"geohash\", \"longitude\"), max_records)\n",
    "print(lat_cols, long_cols, gh_cols)"
   ]
  },
  {
   "cell_type": "markdown",
   "id": "1eba50b6-4bb5-443d-a71f-28a24183e032",
   "metadata": {},
   "source": [
    "`ll_gh_cols` detects latitude & longitude columns only when they appear together in the dataset."
   ]
  },
  {
   "cell_type": "code",
   "execution_count": 11,
   "id": "b973268c-f565-48cb-8370-0b9a86823f5b",
   "metadata": {},
   "outputs": [
    {
     "name": "stdout",
     "output_type": "stream",
     "text": [
      "['latitude'] ['longitude'] []\n"
     ]
    }
   ],
   "source": [
    "# Example 3 - latitude and longitude columns are in the input data, geohash column is not\n",
    "lat_cols, long_cols, gh_cols = ll_gh_cols(df.drop(\"geohash\"), max_records)\n",
    "print(lat_cols, long_cols, gh_cols)"
   ]
  },
  {
   "cell_type": "code",
   "execution_count": 12,
   "id": "7b9547d6-ed6f-4d6e-ab83-f148f0ef8744",
   "metadata": {},
   "outputs": [
    {
     "data": {
      "text/html": [
       "<div>\n",
       "<style scoped>\n",
       "    .dataframe tbody tr th:only-of-type {\n",
       "        vertical-align: middle;\n",
       "    }\n",
       "\n",
       "    .dataframe tbody tr th {\n",
       "        vertical-align: top;\n",
       "    }\n",
       "\n",
       "    .dataframe thead th {\n",
       "        text-align: right;\n",
       "    }\n",
       "</style>\n",
       "<table border=\"1\" class=\"dataframe\">\n",
       "  <thead>\n",
       "    <tr style=\"text-align: right;\">\n",
       "      <th></th>\n",
       "      <th>latitude</th>\n",
       "      <th>longitude</th>\n",
       "    </tr>\n",
       "  </thead>\n",
       "  <tbody>\n",
       "    <tr>\n",
       "      <th>0</th>\n",
       "      <td>-38.624096</td>\n",
       "      <td>177.982468</td>\n",
       "    </tr>\n",
       "    <tr>\n",
       "      <th>1</th>\n",
       "      <td>-40.880497</td>\n",
       "      <td>174.992142</td>\n",
       "    </tr>\n",
       "    <tr>\n",
       "      <th>2</th>\n",
       "      <td>-37.735630</td>\n",
       "      <td>176.164047</td>\n",
       "    </tr>\n",
       "    <tr>\n",
       "      <th>3</th>\n",
       "      <td>-39.536491</td>\n",
       "      <td>176.832321</td>\n",
       "    </tr>\n",
       "    <tr>\n",
       "      <th>4</th>\n",
       "      <td>-41.128094</td>\n",
       "      <td>175.033722</td>\n",
       "    </tr>\n",
       "    <tr>\n",
       "      <th>...</th>\n",
       "      <td>...</td>\n",
       "      <td>...</td>\n",
       "    </tr>\n",
       "    <tr>\n",
       "      <th>32556</th>\n",
       "      <td>-41.293278</td>\n",
       "      <td>174.783737</td>\n",
       "    </tr>\n",
       "    <tr>\n",
       "      <th>32557</th>\n",
       "      <td>-45.855858</td>\n",
       "      <td>170.513382</td>\n",
       "    </tr>\n",
       "    <tr>\n",
       "      <th>32558</th>\n",
       "      <td>-37.743980</td>\n",
       "      <td>175.225586</td>\n",
       "    </tr>\n",
       "    <tr>\n",
       "      <th>32559</th>\n",
       "      <td>-37.750027</td>\n",
       "      <td>175.278122</td>\n",
       "    </tr>\n",
       "    <tr>\n",
       "      <th>32560</th>\n",
       "      <td>-41.200523</td>\n",
       "      <td>174.944534</td>\n",
       "    </tr>\n",
       "  </tbody>\n",
       "</table>\n",
       "<p>32561 rows × 2 columns</p>\n",
       "</div>"
      ],
      "text/plain": [
       "        latitude   longitude\n",
       "0     -38.624096  177.982468\n",
       "1     -40.880497  174.992142\n",
       "2     -37.735630  176.164047\n",
       "3     -39.536491  176.832321\n",
       "4     -41.128094  175.033722\n",
       "...          ...         ...\n",
       "32556 -41.293278  174.783737\n",
       "32557 -45.855858  170.513382\n",
       "32558 -37.743980  175.225586\n",
       "32559 -37.750027  175.278122\n",
       "32560 -41.200523  174.944534\n",
       "\n",
       "[32561 rows x 2 columns]"
      ]
     },
     "execution_count": 12,
     "metadata": {},
     "output_type": "execute_result"
    }
   ],
   "source": [
    "geo_cols = lat_cols+long_cols+gh_cols\n",
    "df.select(*geo_cols).toPandas()"
   ]
  },
  {
   "cell_type": "code",
   "execution_count": 13,
   "id": "2f9d24b8-514a-4001-9000-f9608aee3e56",
   "metadata": {},
   "outputs": [
    {
     "name": "stderr",
     "output_type": "stream",
     "text": [
      "[Stage 357:>                                                        (0 + 1) / 1]\r"
     ]
    },
    {
     "name": "stdout",
     "output_type": "stream",
     "text": [
      "[] [] ['geohash']\n"
     ]
    },
    {
     "name": "stderr",
     "output_type": "stream",
     "text": [
      "                                                                                \r"
     ]
    }
   ],
   "source": [
    "# Example 4 - only geohash column is in the input data\n",
    "lat_cols, long_cols, gh_cols = ll_gh_cols(df.drop(\"latitude\", \"longitude\"), max_records)\n",
    "print(lat_cols, long_cols, gh_cols)"
   ]
  },
  {
   "cell_type": "code",
   "execution_count": 14,
   "id": "58983af5-0762-4065-871d-99953cf1dbd0",
   "metadata": {},
   "outputs": [
    {
     "data": {
      "text/html": [
       "<div>\n",
       "<style scoped>\n",
       "    .dataframe tbody tr th:only-of-type {\n",
       "        vertical-align: middle;\n",
       "    }\n",
       "\n",
       "    .dataframe tbody tr th {\n",
       "        vertical-align: top;\n",
       "    }\n",
       "\n",
       "    .dataframe thead th {\n",
       "        text-align: right;\n",
       "    }\n",
       "</style>\n",
       "<table border=\"1\" class=\"dataframe\">\n",
       "  <thead>\n",
       "    <tr style=\"text-align: right;\">\n",
       "      <th></th>\n",
       "      <th>geohash</th>\n",
       "    </tr>\n",
       "  </thead>\n",
       "  <tbody>\n",
       "    <tr>\n",
       "      <th>0</th>\n",
       "      <td>rb68np99</td>\n",
       "    </tr>\n",
       "    <tr>\n",
       "      <th>1</th>\n",
       "      <td>rckjypw0</td>\n",
       "    </tr>\n",
       "    <tr>\n",
       "      <th>2</th>\n",
       "      <td>rckm712q</td>\n",
       "    </tr>\n",
       "    <tr>\n",
       "      <th>3</th>\n",
       "      <td>rckndgte</td>\n",
       "    </tr>\n",
       "    <tr>\n",
       "      <th>4</th>\n",
       "      <td>rckq4596</td>\n",
       "    </tr>\n",
       "    <tr>\n",
       "      <th>...</th>\n",
       "      <td>...</td>\n",
       "    </tr>\n",
       "    <tr>\n",
       "      <th>32556</th>\n",
       "      <td>rcm32hdg</td>\n",
       "    </tr>\n",
       "    <tr>\n",
       "      <th>32557</th>\n",
       "      <td>rb6b82me</td>\n",
       "    </tr>\n",
       "    <tr>\n",
       "      <th>32558</th>\n",
       "      <td>rckqh5tv</td>\n",
       "    </tr>\n",
       "    <tr>\n",
       "      <th>32559</th>\n",
       "      <td>rckkughm</td>\n",
       "    </tr>\n",
       "    <tr>\n",
       "      <th>32560</th>\n",
       "      <td>rckq18tr</td>\n",
       "    </tr>\n",
       "  </tbody>\n",
       "</table>\n",
       "<p>32561 rows × 1 columns</p>\n",
       "</div>"
      ],
      "text/plain": [
       "        geohash\n",
       "0      rb68np99\n",
       "1      rckjypw0\n",
       "2      rckm712q\n",
       "3      rckndgte\n",
       "4      rckq4596\n",
       "...         ...\n",
       "32556  rcm32hdg\n",
       "32557  rb6b82me\n",
       "32558  rckqh5tv\n",
       "32559  rckkughm\n",
       "32560  rckq18tr\n",
       "\n",
       "[32561 rows x 1 columns]"
      ]
     },
     "execution_count": 14,
     "metadata": {},
     "output_type": "execute_result"
    }
   ],
   "source": [
    "geo_cols = lat_cols+long_cols+gh_cols\n",
    "df.select(*geo_cols).toPandas()"
   ]
  },
  {
   "cell_type": "code",
   "execution_count": 15,
   "id": "99966f5c-788b-4f91-b679-6b078b6e23d2",
   "metadata": {},
   "outputs": [
    {
     "name": "stdout",
     "output_type": "stream",
     "text": [
      "['latitude'] ['longitude'] ['geohash']\n"
     ]
    }
   ],
   "source": [
    "# Example 5 - latitude, longitude, geohash columns are all in the input data\n",
    "lat_cols, long_cols, gh_cols = ll_gh_cols(df, max_records)\n",
    "print(lat_cols, long_cols, gh_cols)"
   ]
  },
  {
   "cell_type": "code",
   "execution_count": 16,
   "id": "183cf0d1-80aa-49f0-bfc3-5c4d7e553e94",
   "metadata": {},
   "outputs": [
    {
     "data": {
      "text/html": [
       "<div>\n",
       "<style scoped>\n",
       "    .dataframe tbody tr th:only-of-type {\n",
       "        vertical-align: middle;\n",
       "    }\n",
       "\n",
       "    .dataframe tbody tr th {\n",
       "        vertical-align: top;\n",
       "    }\n",
       "\n",
       "    .dataframe thead th {\n",
       "        text-align: right;\n",
       "    }\n",
       "</style>\n",
       "<table border=\"1\" class=\"dataframe\">\n",
       "  <thead>\n",
       "    <tr style=\"text-align: right;\">\n",
       "      <th></th>\n",
       "      <th>latitude</th>\n",
       "      <th>longitude</th>\n",
       "      <th>geohash</th>\n",
       "    </tr>\n",
       "  </thead>\n",
       "  <tbody>\n",
       "    <tr>\n",
       "      <th>0</th>\n",
       "      <td>-38.624096</td>\n",
       "      <td>177.982468</td>\n",
       "      <td>rb68np99</td>\n",
       "    </tr>\n",
       "    <tr>\n",
       "      <th>1</th>\n",
       "      <td>-40.880497</td>\n",
       "      <td>174.992142</td>\n",
       "      <td>rckjypw0</td>\n",
       "    </tr>\n",
       "    <tr>\n",
       "      <th>2</th>\n",
       "      <td>-37.735630</td>\n",
       "      <td>176.164047</td>\n",
       "      <td>rckm712q</td>\n",
       "    </tr>\n",
       "    <tr>\n",
       "      <th>3</th>\n",
       "      <td>-39.536491</td>\n",
       "      <td>176.832321</td>\n",
       "      <td>rckndgte</td>\n",
       "    </tr>\n",
       "    <tr>\n",
       "      <th>4</th>\n",
       "      <td>-41.128094</td>\n",
       "      <td>175.033722</td>\n",
       "      <td>rckq4596</td>\n",
       "    </tr>\n",
       "    <tr>\n",
       "      <th>...</th>\n",
       "      <td>...</td>\n",
       "      <td>...</td>\n",
       "      <td>...</td>\n",
       "    </tr>\n",
       "    <tr>\n",
       "      <th>32556</th>\n",
       "      <td>-41.293278</td>\n",
       "      <td>174.783737</td>\n",
       "      <td>rcm32hdg</td>\n",
       "    </tr>\n",
       "    <tr>\n",
       "      <th>32557</th>\n",
       "      <td>-45.855858</td>\n",
       "      <td>170.513382</td>\n",
       "      <td>rb6b82me</td>\n",
       "    </tr>\n",
       "    <tr>\n",
       "      <th>32558</th>\n",
       "      <td>-37.743980</td>\n",
       "      <td>175.225586</td>\n",
       "      <td>rckqh5tv</td>\n",
       "    </tr>\n",
       "    <tr>\n",
       "      <th>32559</th>\n",
       "      <td>-37.750027</td>\n",
       "      <td>175.278122</td>\n",
       "      <td>rckkughm</td>\n",
       "    </tr>\n",
       "    <tr>\n",
       "      <th>32560</th>\n",
       "      <td>-41.200523</td>\n",
       "      <td>174.944534</td>\n",
       "      <td>rckq18tr</td>\n",
       "    </tr>\n",
       "  </tbody>\n",
       "</table>\n",
       "<p>32561 rows × 3 columns</p>\n",
       "</div>"
      ],
      "text/plain": [
       "        latitude   longitude   geohash\n",
       "0     -38.624096  177.982468  rb68np99\n",
       "1     -40.880497  174.992142  rckjypw0\n",
       "2     -37.735630  176.164047  rckm712q\n",
       "3     -39.536491  176.832321  rckndgte\n",
       "4     -41.128094  175.033722  rckq4596\n",
       "...          ...         ...       ...\n",
       "32556 -41.293278  174.783737  rcm32hdg\n",
       "32557 -45.855858  170.513382  rb6b82me\n",
       "32558 -37.743980  175.225586  rckqh5tv\n",
       "32559 -37.750027  175.278122  rckkughm\n",
       "32560 -41.200523  174.944534  rckq18tr\n",
       "\n",
       "[32561 rows x 3 columns]"
      ]
     },
     "execution_count": 16,
     "metadata": {},
     "output_type": "execute_result"
    }
   ],
   "source": [
    "geo_cols = lat_cols+long_cols+gh_cols\n",
    "df.select(*geo_cols).toPandas()"
   ]
  }
 ],
 "metadata": {
  "kernelspec": {
   "display_name": "Python 3 (ipykernel)",
   "language": "python",
   "name": "python3"
  },
  "language_info": {
   "codemirror_mode": {
    "name": "ipython",
    "version": 3
   },
   "file_extension": ".py",
   "mimetype": "text/x-python",
   "name": "python",
   "nbconvert_exporter": "python",
   "pygments_lexer": "ipython3",
   "version": "3.9.12"
  }
 },
 "nbformat": 4,
 "nbformat_minor": 5
}
