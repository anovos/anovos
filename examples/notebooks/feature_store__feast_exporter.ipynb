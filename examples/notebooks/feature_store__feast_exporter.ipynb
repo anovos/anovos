{
 "cells": [
  {
   "cell_type": "markdown",
   "metadata": {
    "pycharm": {
     "name": "#%%\n"
    }
   },
   "source": [
    "# ANOVOS - Feast Integration\n",
    "Following notebook shows the feast integration supported by ANOVOS package and how it can be invoked accordingly. \n",
    "Code that is necessary for a minimal dataflow is contained here as well. \n",
    "* [Read Dataset](#Read-Dataset)\n",
    "* [Write Datasets and export feature definitions](#Write-Datasets-and-export-feature-definitions)"
   ]
  },
  {
   "cell_type": "markdown",
   "metadata": {
    "pycharm": {
     "name": "#%% md\n"
    }
   },
   "source": [
    "**Setting Spark Session**"
   ]
  },
  {
   "cell_type": "code",
   "execution_count": null,
   "metadata": {
    "pycharm": {
     "name": "#%%\n"
    }
   },
   "outputs": [],
   "source": [
    "from anovos.shared.spark import *\n",
    "\n",
    "sc.setLogLevel(\"ERROR\")\n",
    "import warnings\n",
    "warnings.filterwarnings('ignore')"
   ]
  },
  {
   "cell_type": "markdown",
   "metadata": {
    "pycharm": {
     "name": "#%% md\n"
    }
   },
   "source": [
    "**Input/Output Path**"
   ]
  },
  {
   "cell_type": "code",
   "execution_count": null,
   "metadata": {
    "pycharm": {
     "name": "#%%\n"
    }
   },
   "outputs": [],
   "source": [
    "inputPath = \"../data/income_dataset/csv\"\n",
    "inputPath_parq = \"../data/income_dataset/parquet\"\n",
    "inputPath_join = \"../data/income_dataset/join\"\n",
    "outputPath = \"../output/income_dataset/\""
   ]
  },
  {
   "cell_type": "markdown",
   "metadata": {
    "pycharm": {
     "name": "#%% md\n"
    }
   },
   "source": [
    "# Read Dataset"
   ]
  },
  {
   "cell_type": "markdown",
   "metadata": {
    "pycharm": {
     "name": "#%% md\n"
    }
   },
   "source": [
    "- API specification of function **read_dataset** can be found <a href=\"https://docs.anovos.ai/api/data_ingest/data_ingest.html\">here</a>\n",
    "- Currently supports - csv, parquet, avro"
   ]
  },
  {
   "cell_type": "code",
   "execution_count": null,
   "metadata": {
    "pycharm": {
     "name": "#%%\n"
    }
   },
   "outputs": [],
   "source": [
    "from anovos.data_ingest.data_ingest import read_dataset"
   ]
  },
  {
   "cell_type": "code",
   "execution_count": null,
   "metadata": {
    "pycharm": {
     "name": "#%%\n"
    }
   },
   "outputs": [],
   "source": [
    "df = read_dataset(spark, file_path = inputPath, file_type = \"csv\",file_configs = {\"header\": \"True\", \n",
    "                                                                           \"delimiter\": \",\" , \n",
    "                                                                           \"inferSchema\": \"True\"})\n",
    "df.toPandas().head(5)"
   ]
  },
  {
   "cell_type": "markdown",
   "metadata": {
    "pycharm": {
     "name": "#%% md\n"
    }
   },
   "source": [
    "# Write Datasets and export feature definitions"
   ]
  },
  {
   "cell_type": "markdown",
   "metadata": {
    "pycharm": {
     "name": "#%% md\n"
    }
   },
   "source": [
    "A description of feature store related configuration can be found <a href=\"https://docs.anovos.ai/using-anovos/feature_store.html\">here</a>\n",
    "- API specification of function **generate_feature_description** can be found <a href=\"https://docs.anovos.ai/api/feature_store/feast_exporter.html\">here</a> <br>\n",
    "- Limitations:\n",
    "    - repartition for file output needs to be set to 1\n",
    "    - no incremental updates possible\n",
    "       "
   ]
  },
  {
   "cell_type": "code",
   "execution_count": null,
   "metadata": {
    "pycharm": {
     "name": "#%%\n"
    }
   },
   "outputs": [],
   "source": [
    "from anovos.feature_store import feast_exporter"
   ]
  },
  {
   "cell_type": "code",
   "execution_count": null,
   "metadata": {
    "pycharm": {
     "name": "#%%\n"
    }
   },
   "outputs": [],
   "source": [
    "#Example 1 - add timestamp columns to df \n",
    "entity_config = {\n",
    "    \"name\": \"income\",\n",
    "    \"id_col\": \"ifa\",\n",
    "    \"description\": \"write_feast_features\",\n",
    "}\n",
    "\n",
    "file_source_config = {\n",
    "    \"owner\": \"test@owner.com\",\n",
    "    \"description\": \"data source description\",\n",
    "    \"timestamp_col\": \"event_time\",\n",
    "    \"create_timestamp_col\": \"create_time_col\",\n",
    "}\n",
    "\n",
    "feature_view_config = {\n",
    "    \"name\": \"income_view\",\n",
    "    \"ttl_in_seconds\": 3600000,\n",
    "    \"owner\": \"view@owner.com\",\n",
    "    \"create_timestamps\": True,\n",
    "}\n",
    "\n",
    "write_feast_features = {\n",
    "    \"entity\": entity_config,\n",
    "    \"file_source\": file_source_config,\n",
    "    \"feature_view\": feature_view_config,\n",
    "    \"file_path\": \"../data/feast_repo\",\n",
    "    \"service_name\": \"income_feature_service\"\n",
    "}\n",
    "# read this from yml file in real world\n",
    "\n",
    "\n",
    "file_source_config = write_feast_features[\"file_source\"]\n",
    "df = feast_exporter.add_timestamp_columns(df, file_source_config)"
   ]
  },
  {
   "cell_type": "code",
   "execution_count": null,
   "metadata": {
    "pycharm": {
     "name": "#%%\n"
    }
   },
   "outputs": [],
   "source": [
    "from anovos.data_ingest.data_ingest import write_dataset"
   ]
  },
  {
   "cell_type": "code",
   "execution_count": null,
   "metadata": {
    "pycharm": {
     "name": "#%%\n"
    }
   },
   "outputs": [],
   "source": [
    "write_dataset(df, outputPath, 'parquet',{'repartition':1, 'mode':'overwrite'})"
   ]
  },
  {
   "cell_type": "code",
   "execution_count": null,
   "metadata": {},
   "outputs": [],
   "source": [
    "import os \n",
    "import glob"
   ]
  },
  {
   "cell_type": "code",
   "execution_count": null,
   "metadata": {
    "pycharm": {
     "name": "#%%\n"
    }
   },
   "outputs": [],
   "source": [
    "# Example 1 - write feast feature configuration into feast repository\n",
    "path = os.path.join(write_main[\"file_path\"], \"final_dataset\", \"part*\")\n",
    "filename = glob.glob(path)[0]\n",
    "feast_exporter.generate_feature_description(df.dtypes, write_feast_features, filename)"
   ]
  }
 ],
 "metadata": {
  "kernelspec": {
   "display_name": "Python 3 (ipykernel)",
   "language": "python",
   "name": "python3"
  },
  "language_info": {
   "codemirror_mode": {
    "name": "ipython",
    "version": 3
   },
   "file_extension": ".py",
   "mimetype": "text/x-python",
   "name": "python",
   "nbconvert_exporter": "python",
   "pygments_lexer": "ipython3",
   "version": "3.9.12"
  },
  "toc": {
   "base_numbering": 1,
   "nav_menu": {},
   "number_sections": false,
   "sideBar": true,
   "skip_h1_title": false,
   "title_cell": "Data Ingest",
   "title_sidebar": "Contents",
   "toc_cell": false,
   "toc_position": {
    "height": "calc(100% - 180px)",
    "left": "10px",
    "top": "150px",
    "width": "252.52499389648438px"
   },
   "toc_section_display": true,
   "toc_window_display": true
  }
 },
 "nbformat": 4,
 "nbformat_minor": 4
}
