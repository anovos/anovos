{
 "cells": [
  {
   "cell_type": "markdown",
   "metadata": {
    "pycharm": {
     "name": "#%%\n"
    }
   },
   "source": [
    "# ANOVOS - Feast Integration\n",
    "Following notebook shows the feast integration supported by ANOVOS package and how it can be invoked accordingly. \n",
    "Code that is necessary for a minimal dataflow is contained here as well. \n",
    "* [Read Dataset](#Read-Dataset)\n",
    "* [Write Datasets and export feature definitions](#Write-Datasets-and-export-feature-definitions)"
   ]
  },
  {
   "cell_type": "markdown",
   "metadata": {
    "pycharm": {
     "name": "#%% md\n"
    }
   },
   "source": [
    "**Setting Spark Session**"
   ]
  },
  {
   "cell_type": "code",
   "execution_count": 2,
   "metadata": {
    "pycharm": {
     "name": "#%%\n"
    }
   },
   "outputs": [],
   "source": [
    "from anovos.shared.spark import *\n",
    "\n",
    "sc.setLogLevel(\"ERROR\")\n",
    "import warnings\n",
    "warnings.filterwarnings('ignore')"
   ]
  },
  {
   "cell_type": "markdown",
   "metadata": {
    "pycharm": {
     "name": "#%% md\n"
    }
   },
   "source": [
    "**Input/Output Path**"
   ]
  },
  {
   "cell_type": "code",
   "execution_count": 3,
   "metadata": {
    "pycharm": {
     "name": "#%%\n"
    }
   },
   "outputs": [],
   "source": [
    "inputPath = \"../data/income_dataset/csv\"\n",
    "inputPath_parq = \"../data/income_dataset/parquet\"\n",
    "inputPath_join = \"../data/income_dataset/join\"\n",
    "outputPath = \"../output/income_dataset/\""
   ]
  },
  {
   "cell_type": "markdown",
   "metadata": {
    "pycharm": {
     "name": "#%% md\n"
    }
   },
   "source": [
    "# Read Dataset"
   ]
  },
  {
   "cell_type": "markdown",
   "metadata": {
    "pycharm": {
     "name": "#%% md\n"
    }
   },
   "source": [
    "- API specification of function **read_dataset** can be found <a href=\"https://docs.anovos.ai/api/data_ingest/data_ingest.html\">here</a>\n",
    "- Currently supports - csv, parquet, avro"
   ]
  },
  {
   "cell_type": "code",
   "execution_count": 4,
   "metadata": {
    "pycharm": {
     "name": "#%%\n"
    }
   },
   "outputs": [],
   "source": [
    "from anovos.data_ingest.data_ingest import read_dataset"
   ]
  },
  {
   "cell_type": "code",
   "execution_count": 5,
   "metadata": {
    "pycharm": {
     "name": "#%%\n"
    }
   },
   "outputs": [
    {
     "name": "stderr",
     "output_type": "stream",
     "text": [
      "                                                                                \r"
     ]
    },
    {
     "data": {
      "text/html": [
       "<div>\n",
       "<style scoped>\n",
       "    .dataframe tbody tr th:only-of-type {\n",
       "        vertical-align: middle;\n",
       "    }\n",
       "\n",
       "    .dataframe tbody tr th {\n",
       "        vertical-align: top;\n",
       "    }\n",
       "\n",
       "    .dataframe thead th {\n",
       "        text-align: right;\n",
       "    }\n",
       "</style>\n",
       "<table border=\"1\" class=\"dataframe\">\n",
       "  <thead>\n",
       "    <tr style=\"text-align: right;\">\n",
       "      <th></th>\n",
       "      <th>ifa</th>\n",
       "      <th>age</th>\n",
       "      <th>workclass</th>\n",
       "      <th>fnlwgt</th>\n",
       "      <th>logfnl</th>\n",
       "      <th>empty</th>\n",
       "      <th>education</th>\n",
       "      <th>education-num</th>\n",
       "      <th>marital-status</th>\n",
       "      <th>occupation</th>\n",
       "      <th>...</th>\n",
       "      <th>capital-gain</th>\n",
       "      <th>capital-loss</th>\n",
       "      <th>hours-per-week</th>\n",
       "      <th>native-country</th>\n",
       "      <th>income</th>\n",
       "      <th>dt_1</th>\n",
       "      <th>dt_2</th>\n",
       "      <th>latitude</th>\n",
       "      <th>longitude</th>\n",
       "      <th>geohash</th>\n",
       "    </tr>\n",
       "  </thead>\n",
       "  <tbody>\n",
       "    <tr>\n",
       "      <th>0</th>\n",
       "      <td>1a</td>\n",
       "      <td>NaN</td>\n",
       "      <td>State-gov</td>\n",
       "      <td>77516.0</td>\n",
       "      <td>4.889391</td>\n",
       "      <td>None</td>\n",
       "      <td>Bachelors</td>\n",
       "      <td>13.0</td>\n",
       "      <td>Never-married</td>\n",
       "      <td>Adm-clerical</td>\n",
       "      <td>...</td>\n",
       "      <td>2174.0</td>\n",
       "      <td>0.0</td>\n",
       "      <td>40.0</td>\n",
       "      <td>UnitedStates</td>\n",
       "      <td>&lt;=50K</td>\n",
       "      <td>1/8/16 5:59</td>\n",
       "      <td>1/16/16 5:59</td>\n",
       "      <td>-38.624096</td>\n",
       "      <td>177.982468</td>\n",
       "      <td>rb68np99</td>\n",
       "    </tr>\n",
       "    <tr>\n",
       "      <th>1</th>\n",
       "      <td>2a</td>\n",
       "      <td>NaN</td>\n",
       "      <td>Self-emp-not-inc</td>\n",
       "      <td>83311.0</td>\n",
       "      <td>4.920702</td>\n",
       "      <td>None</td>\n",
       "      <td>Bachelors</td>\n",
       "      <td>13.0</td>\n",
       "      <td>Married-civ-spouse</td>\n",
       "      <td>Exec-managerial</td>\n",
       "      <td>...</td>\n",
       "      <td>0.0</td>\n",
       "      <td>0.0</td>\n",
       "      <td>13.0</td>\n",
       "      <td>UnitedStates</td>\n",
       "      <td>&lt;=50K</td>\n",
       "      <td>1/8/16 21:09</td>\n",
       "      <td>1/12/16 21:09</td>\n",
       "      <td>-40.880497</td>\n",
       "      <td>174.992142</td>\n",
       "      <td>rckjypw0</td>\n",
       "    </tr>\n",
       "    <tr>\n",
       "      <th>2</th>\n",
       "      <td>3a</td>\n",
       "      <td>38.0</td>\n",
       "      <td>Private</td>\n",
       "      <td>215646.0</td>\n",
       "      <td>5.333741</td>\n",
       "      <td>None</td>\n",
       "      <td>HS-grad</td>\n",
       "      <td>9.0</td>\n",
       "      <td>Divorced</td>\n",
       "      <td>Handlers-cleaners</td>\n",
       "      <td>...</td>\n",
       "      <td>0.0</td>\n",
       "      <td>0.0</td>\n",
       "      <td>40.0</td>\n",
       "      <td>UnitedStates</td>\n",
       "      <td>&lt;=50K</td>\n",
       "      <td>3/8/16 2:21</td>\n",
       "      <td>3/20/16 2:21</td>\n",
       "      <td>-37.735630</td>\n",
       "      <td>176.164047</td>\n",
       "      <td>rckm712q</td>\n",
       "    </tr>\n",
       "    <tr>\n",
       "      <th>3</th>\n",
       "      <td>4a</td>\n",
       "      <td>53.0</td>\n",
       "      <td>Private</td>\n",
       "      <td>234721.0</td>\n",
       "      <td>5.370552</td>\n",
       "      <td>None</td>\n",
       "      <td>11th</td>\n",
       "      <td>7.0</td>\n",
       "      <td>Married-civ-spouse</td>\n",
       "      <td>Handlers-cleaners</td>\n",
       "      <td>...</td>\n",
       "      <td>0.0</td>\n",
       "      <td>0.0</td>\n",
       "      <td>40.0</td>\n",
       "      <td>UnitedStates</td>\n",
       "      <td>&lt;=50K</td>\n",
       "      <td>3/8/16 6:31</td>\n",
       "      <td>3/14/16 6:31</td>\n",
       "      <td>-39.536491</td>\n",
       "      <td>176.832321</td>\n",
       "      <td>rckndgte</td>\n",
       "    </tr>\n",
       "    <tr>\n",
       "      <th>4</th>\n",
       "      <td>5a</td>\n",
       "      <td>NaN</td>\n",
       "      <td>Private</td>\n",
       "      <td>338409.0</td>\n",
       "      <td>5.529442</td>\n",
       "      <td>None</td>\n",
       "      <td>Bachelors</td>\n",
       "      <td>13.0</td>\n",
       "      <td>Married-civ-spouse</td>\n",
       "      <td>Prof-specialty</td>\n",
       "      <td>...</td>\n",
       "      <td>0.0</td>\n",
       "      <td>0.0</td>\n",
       "      <td>40.0</td>\n",
       "      <td>Cuba</td>\n",
       "      <td>&lt;=50K</td>\n",
       "      <td>3/8/16 9:45</td>\n",
       "      <td>3/10/16 9:45</td>\n",
       "      <td>-41.128094</td>\n",
       "      <td>175.033722</td>\n",
       "      <td>rckq4596</td>\n",
       "    </tr>\n",
       "  </tbody>\n",
       "</table>\n",
       "<p>5 rows × 23 columns</p>\n",
       "</div>"
      ],
      "text/plain": [
       "  ifa   age         workclass    fnlwgt    logfnl empty  education  \\\n",
       "0  1a   NaN         State-gov   77516.0  4.889391  None  Bachelors   \n",
       "1  2a   NaN  Self-emp-not-inc   83311.0  4.920702  None  Bachelors   \n",
       "2  3a  38.0           Private  215646.0  5.333741  None    HS-grad   \n",
       "3  4a  53.0           Private  234721.0  5.370552  None       11th   \n",
       "4  5a   NaN           Private  338409.0  5.529442  None  Bachelors   \n",
       "\n",
       "   education-num      marital-status         occupation  ... capital-gain  \\\n",
       "0           13.0       Never-married       Adm-clerical  ...       2174.0   \n",
       "1           13.0  Married-civ-spouse    Exec-managerial  ...          0.0   \n",
       "2            9.0            Divorced  Handlers-cleaners  ...          0.0   \n",
       "3            7.0  Married-civ-spouse  Handlers-cleaners  ...          0.0   \n",
       "4           13.0  Married-civ-spouse     Prof-specialty  ...          0.0   \n",
       "\n",
       "  capital-loss hours-per-week  native-country  income          dt_1  \\\n",
       "0          0.0           40.0    UnitedStates   <=50K   1/8/16 5:59   \n",
       "1          0.0           13.0    UnitedStates   <=50K  1/8/16 21:09   \n",
       "2          0.0           40.0    UnitedStates   <=50K   3/8/16 2:21   \n",
       "3          0.0           40.0    UnitedStates   <=50K   3/8/16 6:31   \n",
       "4          0.0           40.0            Cuba   <=50K   3/8/16 9:45   \n",
       "\n",
       "            dt_2   latitude   longitude   geohash  \n",
       "0   1/16/16 5:59 -38.624096  177.982468  rb68np99  \n",
       "1  1/12/16 21:09 -40.880497  174.992142  rckjypw0  \n",
       "2   3/20/16 2:21 -37.735630  176.164047  rckm712q  \n",
       "3   3/14/16 6:31 -39.536491  176.832321  rckndgte  \n",
       "4   3/10/16 9:45 -41.128094  175.033722  rckq4596  \n",
       "\n",
       "[5 rows x 23 columns]"
      ]
     },
     "execution_count": 5,
     "metadata": {},
     "output_type": "execute_result"
    }
   ],
   "source": [
    "df = read_dataset(spark, file_path = inputPath, file_type = \"csv\",file_configs = {\"header\": \"True\", \n",
    "                                                                           \"delimiter\": \",\" , \n",
    "                                                                           \"inferSchema\": \"True\"})\n",
    "df.toPandas().head(5)"
   ]
  },
  {
   "cell_type": "markdown",
   "metadata": {
    "pycharm": {
     "name": "#%% md\n"
    }
   },
   "source": [
    "# Write Datasets and export feature definitions"
   ]
  },
  {
   "cell_type": "markdown",
   "metadata": {
    "pycharm": {
     "name": "#%% md\n"
    }
   },
   "source": [
    "A description of feature store related configuration can be found <a href=\"https://docs.anovos.ai/using-anovos/feature_store.html\">here</a>\n",
    "- API specification of function **generate_feature_description** can be found <a href=\"https://docs.anovos.ai/api/feature_store/feast_exporter.html\">here</a> <br>\n",
    "- Limitations:\n",
    "    - repartition for file output needs to be set to 1\n",
    "    - no incremental updates possible\n",
    "       "
   ]
  },
  {
   "cell_type": "code",
   "execution_count": 6,
   "metadata": {
    "pycharm": {
     "name": "#%%\n"
    }
   },
   "outputs": [],
   "source": [
    "from anovos.feature_store import feast_exporter"
   ]
  },
  {
   "cell_type": "code",
   "execution_count": 7,
   "metadata": {
    "pycharm": {
     "name": "#%%\n"
    }
   },
   "outputs": [
    {
     "name": "stdout",
     "output_type": "stream",
     "text": [
      "Adding timestamp columns\n"
     ]
    }
   ],
   "source": [
    "#Example 1 - add timestamp columns to df \n",
    "entity_config = {\n",
    "    \"name\": \"income\",\n",
    "    \"id_col\": \"ifa\",\n",
    "    \"description\": \"write_feast_features\",\n",
    "}\n",
    "\n",
    "file_source_config = {\n",
    "    \"owner\": \"test@owner.com\",\n",
    "    \"description\": \"data source description\",\n",
    "    \"timestamp_col\": \"event_time\",\n",
    "    \"create_timestamp_col\": \"create_time_col\",\n",
    "}\n",
    "\n",
    "feature_view_config = {\n",
    "    \"name\": \"income_view\",\n",
    "    \"ttl_in_seconds\": 3600000,\n",
    "    \"owner\": \"view@owner.com\",\n",
    "    \"create_timestamps\": True,\n",
    "}\n",
    "\n",
    "write_feast_features = {\n",
    "    \"entity\": entity_config,\n",
    "    \"file_source\": file_source_config,\n",
    "    \"feature_view\": feature_view_config,\n",
    "    \"file_path\": \"../data/feast_repo\",\n",
    "    \"service_name\": \"income_feature_service\"\n",
    "}\n",
    "# read this from yml file in real world\n",
    "\n",
    "\n",
    "file_source_config = write_feast_features[\"file_source\"]\n",
    "df = feast_exporter.add_timestamp_columns(df, file_source_config)"
   ]
  },
  {
   "cell_type": "code",
   "execution_count": 8,
   "metadata": {
    "pycharm": {
     "name": "#%%\n"
    }
   },
   "outputs": [],
   "source": [
    "from anovos.data_ingest.data_ingest import write_dataset"
   ]
  },
  {
   "cell_type": "code",
   "execution_count": 18,
   "metadata": {
    "pycharm": {
     "name": "#%%\n"
    }
   },
   "outputs": [],
   "source": [
    "write_dataset(df, outputPath, 'parquet',{'repartition':1, 'mode':'overwrite'})"
   ]
  },
  {
   "cell_type": "code",
   "execution_count": 17,
   "metadata": {},
   "outputs": [
    {
     "data": {
      "text/plain": [
       "'../output/income_dataset/'"
      ]
     },
     "execution_count": 17,
     "metadata": {},
     "output_type": "execute_result"
    }
   ],
   "source": [
    "outputPath"
   ]
  },
  {
   "cell_type": "code",
   "execution_count": 16,
   "metadata": {},
   "outputs": [
    {
     "name": "stderr",
     "output_type": "stream",
     "text": [
      "                                                                                \r"
     ]
    },
    {
     "data": {
      "text/html": [
       "<div>\n",
       "<style scoped>\n",
       "    .dataframe tbody tr th:only-of-type {\n",
       "        vertical-align: middle;\n",
       "    }\n",
       "\n",
       "    .dataframe tbody tr th {\n",
       "        vertical-align: top;\n",
       "    }\n",
       "\n",
       "    .dataframe thead th {\n",
       "        text-align: right;\n",
       "    }\n",
       "</style>\n",
       "<table border=\"1\" class=\"dataframe\">\n",
       "  <thead>\n",
       "    <tr style=\"text-align: right;\">\n",
       "      <th></th>\n",
       "      <th>ifa</th>\n",
       "      <th>age</th>\n",
       "      <th>workclass</th>\n",
       "      <th>fnlwgt</th>\n",
       "      <th>logfnl</th>\n",
       "      <th>empty</th>\n",
       "      <th>education</th>\n",
       "      <th>education-num</th>\n",
       "      <th>marital-status</th>\n",
       "      <th>occupation</th>\n",
       "      <th>...</th>\n",
       "      <th>hours-per-week</th>\n",
       "      <th>native-country</th>\n",
       "      <th>income</th>\n",
       "      <th>dt_1</th>\n",
       "      <th>dt_2</th>\n",
       "      <th>latitude</th>\n",
       "      <th>longitude</th>\n",
       "      <th>geohash</th>\n",
       "      <th>event_time</th>\n",
       "      <th>create_time_col</th>\n",
       "    </tr>\n",
       "  </thead>\n",
       "  <tbody>\n",
       "    <tr>\n",
       "      <th>0</th>\n",
       "      <td>1a</td>\n",
       "      <td>NaN</td>\n",
       "      <td>State-gov</td>\n",
       "      <td>77516.0</td>\n",
       "      <td>4.889391</td>\n",
       "      <td>None</td>\n",
       "      <td>Bachelors</td>\n",
       "      <td>13.0</td>\n",
       "      <td>Never-married</td>\n",
       "      <td>Adm-clerical</td>\n",
       "      <td>...</td>\n",
       "      <td>40.0</td>\n",
       "      <td>UnitedStates</td>\n",
       "      <td>&lt;=50K</td>\n",
       "      <td>1/8/16 5:59</td>\n",
       "      <td>1/16/16 5:59</td>\n",
       "      <td>-38.624096</td>\n",
       "      <td>177.982468</td>\n",
       "      <td>rb68np99</td>\n",
       "      <td>2022-11-21 06:44:56.972974</td>\n",
       "      <td>2022-11-21 06:44:57.243829</td>\n",
       "    </tr>\n",
       "    <tr>\n",
       "      <th>1</th>\n",
       "      <td>2a</td>\n",
       "      <td>NaN</td>\n",
       "      <td>Self-emp-not-inc</td>\n",
       "      <td>83311.0</td>\n",
       "      <td>4.920702</td>\n",
       "      <td>None</td>\n",
       "      <td>Bachelors</td>\n",
       "      <td>13.0</td>\n",
       "      <td>Married-civ-spouse</td>\n",
       "      <td>Exec-managerial</td>\n",
       "      <td>...</td>\n",
       "      <td>13.0</td>\n",
       "      <td>UnitedStates</td>\n",
       "      <td>&lt;=50K</td>\n",
       "      <td>1/8/16 21:09</td>\n",
       "      <td>1/12/16 21:09</td>\n",
       "      <td>-40.880497</td>\n",
       "      <td>174.992142</td>\n",
       "      <td>rckjypw0</td>\n",
       "      <td>2022-11-21 06:44:56.972974</td>\n",
       "      <td>2022-11-21 06:44:57.243829</td>\n",
       "    </tr>\n",
       "    <tr>\n",
       "      <th>2</th>\n",
       "      <td>3a</td>\n",
       "      <td>38.0</td>\n",
       "      <td>Private</td>\n",
       "      <td>215646.0</td>\n",
       "      <td>5.333741</td>\n",
       "      <td>None</td>\n",
       "      <td>HS-grad</td>\n",
       "      <td>9.0</td>\n",
       "      <td>Divorced</td>\n",
       "      <td>Handlers-cleaners</td>\n",
       "      <td>...</td>\n",
       "      <td>40.0</td>\n",
       "      <td>UnitedStates</td>\n",
       "      <td>&lt;=50K</td>\n",
       "      <td>3/8/16 2:21</td>\n",
       "      <td>3/20/16 2:21</td>\n",
       "      <td>-37.735630</td>\n",
       "      <td>176.164047</td>\n",
       "      <td>rckm712q</td>\n",
       "      <td>2022-11-21 06:44:56.972974</td>\n",
       "      <td>2022-11-21 06:44:57.243829</td>\n",
       "    </tr>\n",
       "    <tr>\n",
       "      <th>3</th>\n",
       "      <td>4a</td>\n",
       "      <td>53.0</td>\n",
       "      <td>Private</td>\n",
       "      <td>234721.0</td>\n",
       "      <td>5.370552</td>\n",
       "      <td>None</td>\n",
       "      <td>11th</td>\n",
       "      <td>7.0</td>\n",
       "      <td>Married-civ-spouse</td>\n",
       "      <td>Handlers-cleaners</td>\n",
       "      <td>...</td>\n",
       "      <td>40.0</td>\n",
       "      <td>UnitedStates</td>\n",
       "      <td>&lt;=50K</td>\n",
       "      <td>3/8/16 6:31</td>\n",
       "      <td>3/14/16 6:31</td>\n",
       "      <td>-39.536491</td>\n",
       "      <td>176.832321</td>\n",
       "      <td>rckndgte</td>\n",
       "      <td>2022-11-21 06:44:56.972974</td>\n",
       "      <td>2022-11-21 06:44:57.243829</td>\n",
       "    </tr>\n",
       "    <tr>\n",
       "      <th>4</th>\n",
       "      <td>5a</td>\n",
       "      <td>NaN</td>\n",
       "      <td>Private</td>\n",
       "      <td>338409.0</td>\n",
       "      <td>5.529442</td>\n",
       "      <td>None</td>\n",
       "      <td>Bachelors</td>\n",
       "      <td>13.0</td>\n",
       "      <td>Married-civ-spouse</td>\n",
       "      <td>Prof-specialty</td>\n",
       "      <td>...</td>\n",
       "      <td>40.0</td>\n",
       "      <td>Cuba</td>\n",
       "      <td>&lt;=50K</td>\n",
       "      <td>3/8/16 9:45</td>\n",
       "      <td>3/10/16 9:45</td>\n",
       "      <td>-41.128094</td>\n",
       "      <td>175.033722</td>\n",
       "      <td>rckq4596</td>\n",
       "      <td>2022-11-21 06:44:56.972974</td>\n",
       "      <td>2022-11-21 06:44:57.243829</td>\n",
       "    </tr>\n",
       "    <tr>\n",
       "      <th>...</th>\n",
       "      <td>...</td>\n",
       "      <td>...</td>\n",
       "      <td>...</td>\n",
       "      <td>...</td>\n",
       "      <td>...</td>\n",
       "      <td>...</td>\n",
       "      <td>...</td>\n",
       "      <td>...</td>\n",
       "      <td>...</td>\n",
       "      <td>...</td>\n",
       "      <td>...</td>\n",
       "      <td>...</td>\n",
       "      <td>...</td>\n",
       "      <td>...</td>\n",
       "      <td>...</td>\n",
       "      <td>...</td>\n",
       "      <td>...</td>\n",
       "      <td>...</td>\n",
       "      <td>...</td>\n",
       "      <td>...</td>\n",
       "      <td>...</td>\n",
       "    </tr>\n",
       "    <tr>\n",
       "      <th>32556</th>\n",
       "      <td>32557a</td>\n",
       "      <td>27.0</td>\n",
       "      <td>Private</td>\n",
       "      <td>257302.0</td>\n",
       "      <td>NaN</td>\n",
       "      <td>None</td>\n",
       "      <td>Assoc-acdm</td>\n",
       "      <td>12.0</td>\n",
       "      <td>Married-civ-spouse</td>\n",
       "      <td>Tech-support</td>\n",
       "      <td>...</td>\n",
       "      <td>38.0</td>\n",
       "      <td>United-States</td>\n",
       "      <td>&lt;=50K</td>\n",
       "      <td>4/14/19 22:59</td>\n",
       "      <td>4/26/19 22:59</td>\n",
       "      <td>-41.293278</td>\n",
       "      <td>174.783737</td>\n",
       "      <td>rcm32hdg</td>\n",
       "      <td>2022-11-21 06:44:56.972974</td>\n",
       "      <td>2022-11-21 06:44:57.243829</td>\n",
       "    </tr>\n",
       "    <tr>\n",
       "      <th>32557</th>\n",
       "      <td>32558a</td>\n",
       "      <td>40.0</td>\n",
       "      <td>Private</td>\n",
       "      <td>154374.0</td>\n",
       "      <td>NaN</td>\n",
       "      <td>None</td>\n",
       "      <td>HS-grad</td>\n",
       "      <td>9.0</td>\n",
       "      <td>Married-civ-spouse</td>\n",
       "      <td>Machine-op-inspct</td>\n",
       "      <td>...</td>\n",
       "      <td>40.0</td>\n",
       "      <td>United-States</td>\n",
       "      <td>&gt;50K</td>\n",
       "      <td>4/15/19 7:29</td>\n",
       "      <td>4/17/19 7:29</td>\n",
       "      <td>-45.855858</td>\n",
       "      <td>170.513382</td>\n",
       "      <td>rb6b82me</td>\n",
       "      <td>2022-11-21 06:44:56.972974</td>\n",
       "      <td>2022-11-21 06:44:57.243829</td>\n",
       "    </tr>\n",
       "    <tr>\n",
       "      <th>32558</th>\n",
       "      <td>32559a</td>\n",
       "      <td>58.0</td>\n",
       "      <td>Private</td>\n",
       "      <td>151910.0</td>\n",
       "      <td>NaN</td>\n",
       "      <td>None</td>\n",
       "      <td>HS-grad</td>\n",
       "      <td>9.0</td>\n",
       "      <td>Widowed</td>\n",
       "      <td>Adm-clerical</td>\n",
       "      <td>...</td>\n",
       "      <td>40.0</td>\n",
       "      <td>United-States</td>\n",
       "      <td>&lt;=50K</td>\n",
       "      <td>4/15/19 8:54</td>\n",
       "      <td>4/24/19 8:54</td>\n",
       "      <td>-37.743980</td>\n",
       "      <td>175.225586</td>\n",
       "      <td>rckqh5tv</td>\n",
       "      <td>2022-11-21 06:44:56.972974</td>\n",
       "      <td>2022-11-21 06:44:57.243829</td>\n",
       "    </tr>\n",
       "    <tr>\n",
       "      <th>32559</th>\n",
       "      <td>32560a</td>\n",
       "      <td>22.0</td>\n",
       "      <td>Private</td>\n",
       "      <td>201490.0</td>\n",
       "      <td>NaN</td>\n",
       "      <td>None</td>\n",
       "      <td>HS-grad</td>\n",
       "      <td>9.0</td>\n",
       "      <td>Never-married</td>\n",
       "      <td>Adm-clerical</td>\n",
       "      <td>...</td>\n",
       "      <td>20.0</td>\n",
       "      <td>United-States</td>\n",
       "      <td>&lt;=50K</td>\n",
       "      <td>4/15/19 10:25</td>\n",
       "      <td>4/25/19 10:25</td>\n",
       "      <td>-37.750027</td>\n",
       "      <td>175.278122</td>\n",
       "      <td>rckkughm</td>\n",
       "      <td>2022-11-21 06:44:56.972974</td>\n",
       "      <td>2022-11-21 06:44:57.243829</td>\n",
       "    </tr>\n",
       "    <tr>\n",
       "      <th>32560</th>\n",
       "      <td>32561a</td>\n",
       "      <td>52.0</td>\n",
       "      <td>Self-emp-inc</td>\n",
       "      <td>287927.0</td>\n",
       "      <td>NaN</td>\n",
       "      <td>None</td>\n",
       "      <td>HS-grad</td>\n",
       "      <td>9.0</td>\n",
       "      <td>Married-civ-spouse</td>\n",
       "      <td>Exec-managerial</td>\n",
       "      <td>...</td>\n",
       "      <td>40.0</td>\n",
       "      <td>United-States</td>\n",
       "      <td>&gt;50K</td>\n",
       "      <td>4/15/19 11:46</td>\n",
       "      <td>4/19/19 11:46</td>\n",
       "      <td>-41.200523</td>\n",
       "      <td>174.944534</td>\n",
       "      <td>rckq18tr</td>\n",
       "      <td>2022-11-21 06:44:56.972974</td>\n",
       "      <td>2022-11-21 06:44:57.243829</td>\n",
       "    </tr>\n",
       "  </tbody>\n",
       "</table>\n",
       "<p>32561 rows × 25 columns</p>\n",
       "</div>"
      ],
      "text/plain": [
       "          ifa   age         workclass    fnlwgt    logfnl empty   education  \\\n",
       "0          1a   NaN         State-gov   77516.0  4.889391  None   Bachelors   \n",
       "1          2a   NaN  Self-emp-not-inc   83311.0  4.920702  None   Bachelors   \n",
       "2          3a  38.0           Private  215646.0  5.333741  None     HS-grad   \n",
       "3          4a  53.0           Private  234721.0  5.370552  None        11th   \n",
       "4          5a   NaN           Private  338409.0  5.529442  None   Bachelors   \n",
       "...       ...   ...               ...       ...       ...   ...         ...   \n",
       "32556  32557a  27.0           Private  257302.0       NaN  None  Assoc-acdm   \n",
       "32557  32558a  40.0           Private  154374.0       NaN  None     HS-grad   \n",
       "32558  32559a  58.0           Private  151910.0       NaN  None     HS-grad   \n",
       "32559  32560a  22.0           Private  201490.0       NaN  None     HS-grad   \n",
       "32560  32561a  52.0      Self-emp-inc  287927.0       NaN  None     HS-grad   \n",
       "\n",
       "       education-num      marital-status         occupation  ...  \\\n",
       "0               13.0       Never-married       Adm-clerical  ...   \n",
       "1               13.0  Married-civ-spouse    Exec-managerial  ...   \n",
       "2                9.0            Divorced  Handlers-cleaners  ...   \n",
       "3                7.0  Married-civ-spouse  Handlers-cleaners  ...   \n",
       "4               13.0  Married-civ-spouse     Prof-specialty  ...   \n",
       "...              ...                 ...                ...  ...   \n",
       "32556           12.0  Married-civ-spouse       Tech-support  ...   \n",
       "32557            9.0  Married-civ-spouse  Machine-op-inspct  ...   \n",
       "32558            9.0             Widowed       Adm-clerical  ...   \n",
       "32559            9.0       Never-married       Adm-clerical  ...   \n",
       "32560            9.0  Married-civ-spouse    Exec-managerial  ...   \n",
       "\n",
       "      hours-per-week native-country income           dt_1           dt_2  \\\n",
       "0               40.0   UnitedStates  <=50K    1/8/16 5:59   1/16/16 5:59   \n",
       "1               13.0   UnitedStates  <=50K   1/8/16 21:09  1/12/16 21:09   \n",
       "2               40.0   UnitedStates  <=50K    3/8/16 2:21   3/20/16 2:21   \n",
       "3               40.0   UnitedStates  <=50K    3/8/16 6:31   3/14/16 6:31   \n",
       "4               40.0           Cuba  <=50K    3/8/16 9:45   3/10/16 9:45   \n",
       "...              ...            ...    ...            ...            ...   \n",
       "32556           38.0  United-States  <=50K  4/14/19 22:59  4/26/19 22:59   \n",
       "32557           40.0  United-States   >50K   4/15/19 7:29   4/17/19 7:29   \n",
       "32558           40.0  United-States  <=50K   4/15/19 8:54   4/24/19 8:54   \n",
       "32559           20.0  United-States  <=50K  4/15/19 10:25  4/25/19 10:25   \n",
       "32560           40.0  United-States   >50K  4/15/19 11:46  4/19/19 11:46   \n",
       "\n",
       "        latitude   longitude   geohash                 event_time  \\\n",
       "0     -38.624096  177.982468  rb68np99 2022-11-21 06:44:56.972974   \n",
       "1     -40.880497  174.992142  rckjypw0 2022-11-21 06:44:56.972974   \n",
       "2     -37.735630  176.164047  rckm712q 2022-11-21 06:44:56.972974   \n",
       "3     -39.536491  176.832321  rckndgte 2022-11-21 06:44:56.972974   \n",
       "4     -41.128094  175.033722  rckq4596 2022-11-21 06:44:56.972974   \n",
       "...          ...         ...       ...                        ...   \n",
       "32556 -41.293278  174.783737  rcm32hdg 2022-11-21 06:44:56.972974   \n",
       "32557 -45.855858  170.513382  rb6b82me 2022-11-21 06:44:56.972974   \n",
       "32558 -37.743980  175.225586  rckqh5tv 2022-11-21 06:44:56.972974   \n",
       "32559 -37.750027  175.278122  rckkughm 2022-11-21 06:44:56.972974   \n",
       "32560 -41.200523  174.944534  rckq18tr 2022-11-21 06:44:56.972974   \n",
       "\n",
       "                 create_time_col  \n",
       "0     2022-11-21 06:44:57.243829  \n",
       "1     2022-11-21 06:44:57.243829  \n",
       "2     2022-11-21 06:44:57.243829  \n",
       "3     2022-11-21 06:44:57.243829  \n",
       "4     2022-11-21 06:44:57.243829  \n",
       "...                          ...  \n",
       "32556 2022-11-21 06:44:57.243829  \n",
       "32557 2022-11-21 06:44:57.243829  \n",
       "32558 2022-11-21 06:44:57.243829  \n",
       "32559 2022-11-21 06:44:57.243829  \n",
       "32560 2022-11-21 06:44:57.243829  \n",
       "\n",
       "[32561 rows x 25 columns]"
      ]
     },
     "execution_count": 16,
     "metadata": {},
     "output_type": "execute_result"
    }
   ],
   "source": [
    "df.toPandas()"
   ]
  },
  {
   "cell_type": "code",
   "execution_count": 10,
   "metadata": {},
   "outputs": [],
   "source": [
    "import os \n",
    "import glob"
   ]
  },
  {
   "cell_type": "code",
   "execution_count": 11,
   "metadata": {
    "pycharm": {
     "name": "#%%\n"
    }
   },
   "outputs": [
    {
     "ename": "NameError",
     "evalue": "name 'write_main' is not defined",
     "output_type": "error",
     "traceback": [
      "\u001b[0;31m---------------------------------------------------------------------------\u001b[0m",
      "\u001b[0;31mNameError\u001b[0m                                 Traceback (most recent call last)",
      "Input \u001b[0;32mIn [11]\u001b[0m, in \u001b[0;36m<cell line: 2>\u001b[0;34m()\u001b[0m\n\u001b[1;32m      1\u001b[0m \u001b[38;5;66;03m# Example 1 - write feast feature configuration into feast repository\u001b[39;00m\n\u001b[0;32m----> 2\u001b[0m path \u001b[38;5;241m=\u001b[39m os\u001b[38;5;241m.\u001b[39mpath\u001b[38;5;241m.\u001b[39mjoin(\u001b[43mwrite_main\u001b[49m[\u001b[38;5;124m\"\u001b[39m\u001b[38;5;124mfile_path\u001b[39m\u001b[38;5;124m\"\u001b[39m], \u001b[38;5;124m\"\u001b[39m\u001b[38;5;124mfinal_dataset\u001b[39m\u001b[38;5;124m\"\u001b[39m, \u001b[38;5;124m\"\u001b[39m\u001b[38;5;124mpart*\u001b[39m\u001b[38;5;124m\"\u001b[39m)\n\u001b[1;32m      3\u001b[0m filename \u001b[38;5;241m=\u001b[39m glob\u001b[38;5;241m.\u001b[39mglob(path)[\u001b[38;5;241m0\u001b[39m]\n\u001b[1;32m      4\u001b[0m feast_exporter\u001b[38;5;241m.\u001b[39mgenerate_feature_description(df\u001b[38;5;241m.\u001b[39mdtypes, write_feast_features, filename)\n",
      "\u001b[0;31mNameError\u001b[0m: name 'write_main' is not defined"
     ]
    }
   ],
   "source": [
    "# Example 1 - write feast feature configuration into feast repository\n",
    "path = os.path.join(write_main[\"file_path\"], \"final_dataset\", \"part*\")\n",
    "filename = glob.glob(path)[0]\n",
    "feast_exporter.generate_feature_description(df.dtypes, write_feast_features, filename)"
   ]
  },
  {
   "cell_type": "code",
   "execution_count": null,
   "metadata": {},
   "outputs": [],
   "source": []
  }
 ],
 "metadata": {
  "kernelspec": {
   "display_name": "Python 3 (ipykernel)",
   "language": "python",
   "name": "python3"
  },
  "language_info": {
   "codemirror_mode": {
    "name": "ipython",
    "version": 3
   },
   "file_extension": ".py",
   "mimetype": "text/x-python",
   "name": "python",
   "nbconvert_exporter": "python",
   "pygments_lexer": "ipython3",
   "version": "3.9.12"
  },
  "toc": {
   "base_numbering": 1,
   "nav_menu": {},
   "number_sections": false,
   "sideBar": true,
   "skip_h1_title": false,
   "title_cell": "Data Ingest",
   "title_sidebar": "Contents",
   "toc_cell": false,
   "toc_position": {
    "height": "calc(100% - 180px)",
    "left": "10px",
    "top": "150px",
    "width": "252.52499389648438px"
   },
   "toc_section_display": true,
   "toc_window_display": true
  }
 },
 "nbformat": 4,
 "nbformat_minor": 4
}
